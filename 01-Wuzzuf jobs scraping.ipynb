{
 "cells": [
  {
   "cell_type": "code",
   "execution_count": 1,
   "metadata": {},
   "outputs": [],
   "source": [
    "import requests\n",
    "from bs4 import BeautifulSoup"
   ]
  },
  {
   "attachments": {},
   "cell_type": "markdown",
   "metadata": {},
   "source": [
    "## Wuzzuf Data Science Jobs Scrapping\n",
    "- You are required to scrap all data science jobs from wuzzuf and save the results in csv file\n",
    "- the required fields are\n",
    "<ul>\n",
    "    <li>job title</li>\n",
    "    <li>job link</li>\n",
    "    <li>Location</li>\n",
    "    <li>skills required </li>\n",
    "    <li>company_name</li>\n",
    "</ul>"
   ]
  },
  {
   "cell_type": "code",
   "execution_count": 2,
   "metadata": {},
   "outputs": [
    {
     "data": {
      "text/plain": [
       "<Response [200]>"
      ]
     },
     "execution_count": 2,
     "metadata": {},
     "output_type": "execute_result"
    }
   ],
   "source": [
    "response = requests.get(\"https://wuzzuf.net/search/jobs/?q=data+science&a=hpb\")\n",
    "response"
   ]
  },
  {
   "cell_type": "code",
   "execution_count": 3,
   "metadata": {},
   "outputs": [],
   "source": [
    "soup = BeautifulSoup(response.text, 'html.parser')"
   ]
  },
  {
   "cell_type": "code",
   "execution_count": 7,
   "metadata": {},
   "outputs": [
    {
     "data": {
      "text/plain": [
       "[<div class=\"css-1gatmva e1v1l3u10\"><style data-emotion=\"css pkv5jc\">.css-pkv5jc{position:relative;min-height:60px;}</style><div class=\"css-pkv5jc\"><a href=\"https://wuzzuf.net/jobs/careers/Qatar Airways - Other locations-Qatar-91475\" rel=\"noreferrer\" target=\"_blank\"><style data-emotion=\"css 17095x3\">.css-17095x3{position:absolute;right:0;top:0;width:60px;height:60px;object-fit:contain;object-position:center center;}</style></a><style data-emotion=\"css laomuu\">.css-laomuu{padding-right:60px;}</style><div class=\"css-laomuu\"><style data-emotion=\"css m604qf\">.css-m604qf{font-size:16px;font-weight:600;font-style:normal;letter-spacing:-0.4px;line-height:24px;color:#0055D9;margin:0;}</style><h2 class=\"css-m604qf\"><style data-emotion=\"css o171kl\">.css-o171kl{-webkit-text-decoration:none;text-decoration:none;color:inherit;}</style><a class=\"css-o171kl\" href=\"/jobs/p/I1N3UZXHi7Xp-Manager-Data-Science-Qatar-Airways---Other-locations-Doha-Qatar?o=1&amp;l=sp&amp;t=sj&amp;a=data science|search-v3|hpb\" rel=\"noreferrer\" target=\"_blank\">Manager Data Science</a></h2><style data-emotion=\"css d7j1kk\">.css-d7j1kk{margin-bottom:8px;overflow:hidden;text-overflow:ellipsis;}</style><div class=\"css-d7j1kk\"><style data-emotion=\"css 17s97q8\">.css-17s97q8{font-size:12px;font-weight:600;font-style:normal;letter-spacing:-0.27px;line-height:19px;color:#001433;-webkit-text-decoration:none;text-decoration:none;}</style><a class=\"css-17s97q8\" href=\"https://wuzzuf.net/jobs/careers/Qatar Airways - Other locations-Qatar-91475\" rel=\"noreferrer\" target=\"_blank\">Qatar Airways - Other locations -</a> <style data-emotion=\"css 5wys0k\">.css-5wys0k{font-size:12px;font-weight:600;font-style:normal;letter-spacing:-0.27px;line-height:19px;color:#4D6182;}</style><span class=\"css-5wys0k\">Doha, <!-- -->Qatar </span><style data-emotion=\"css do6t5g\">.css-do6t5g{font-size:12px;font-weight:400;font-style:normal;letter-spacing:-0.27px;line-height:19px;color:#808EA5;}</style><div class=\"css-do6t5g\">17 days<!-- --> ago</div></div></div><style data-emotion=\"css y4udm8\">.css-y4udm8{font-size:13px;font-weight:600;font-style:normal;letter-spacing:-0.3px;line-height:20px;color:#4D6182;}</style><div class=\"css-y4udm8\"><style data-emotion=\"css 1lh32fc\">.css-1lh32fc{display:-webkit-box;display:-webkit-flex;display:-ms-flexbox;display:flex;margin-bottom:8px;-webkit-align-items:center;-webkit-box-align:center;-ms-flex-align:center;align-items:center;-webkit-box-flex-wrap:wrap;-webkit-flex-wrap:wrap;-ms-flex-wrap:wrap;flex-wrap:wrap;}</style><div class=\"css-1lh32fc\"><style data-emotion=\"css n2jc4m\">.css-n2jc4m{display:-webkit-inline-box;display:-webkit-inline-flex;display:-ms-inline-flexbox;display:inline-flex;-webkit-align-items:center;-webkit-box-align:center;-ms-flex-align:center;align-items:center;-webkit-text-decoration:none;text-decoration:none;color:inherit;margin-bottom:4px;}</style><a class=\"css-n2jc4m\" href=\"/a/Full-Time-Jobs-in-Qatar\"><style data-emotion=\"css adtuo7\">.css-adtuo7{cursor:pointer;padding:0 4px;border-radius:4px;}</style><style data-emotion=\"css 1ve4b75\">.css-1ve4b75{font-size:12px;font-weight:600;display:-webkit-inline-box;display:-webkit-inline-flex;display:-ms-inline-flexbox;display:inline-flex;-webkit-align-items:center;-webkit-box-align:center;-ms-flex-align:center;align-items:center;min-height:20px;margin-right:4px;border-radius:2px;max-width:196px;white-space:nowrap;overflow:hidden;cursor:default;text-overflow:ellipsis;padding:2px 4px;background-color:#EBEDF0;color:#001433;cursor:pointer;padding:0 4px;border-radius:4px;}</style><span class=\"css-1ve4b75 eoyjyou0\">Full Time</span></a></div><div><a class=\"css-o171kl\" href=\"/a/Not-Specified-Jobs-in-Qatar\">Not specified</a><a class=\"css-o171kl\" href=\"/a/IT-Software-Development-Jobs-in-Qatar\"> <!-- -->· <!-- -->IT/Software Development</a><a class=\"css-o171kl\" href=\"/a/Analyst-Research-Jobs-in-Qatar\"> <!-- -->· <!-- -->Analyst/Research</a><a class=\"css-o171kl\" href=\"/a/Engineering-Telecom-Technology-Jobs-in-Qatar\"> <!-- -->· <!-- -->Engineering - Telecom/Technology</a> <!-- -->·<!-- --> <style data-emotion=\"css 5x9pm1\">.css-5x9pm1{-webkit-text-decoration:none;text-decoration:none;color:inherit;max-width:calc(100vw / 2 - 32px);white-space:nowrap;overflow:hidden;text-overflow:ellipsis;display:-webkit-inline-box;display:-webkit-inline-flex;display:-ms-inline-flexbox;display:inline-flex;}</style><a class=\"css-5x9pm1\" href=\"/a/Computer-Science-Jobs-in-Qatar\"><span><span>Computer </span><strong class=\"highlight\">Science</strong></span></a><a class=\"css-5x9pm1\" href=\"/a/Information-Technology-IT-Jobs-in-Qatar\"> <!-- -->· <!-- -->Information Technology (IT)</a><a class=\"css-5x9pm1\" href=\"/a/Computer-Engineering-Jobs-in-Qatar\"> <!-- -->· <!-- -->Computer Engineering</a><a class=\"css-5x9pm1\" href=\"/a/SQL-Jobs-in-Qatar\"> <!-- -->· <!-- -->SQL</a> <!-- -->·<!-- --> <a class=\"css-5x9pm1\" href=\"/a/Data-Management-Jobs-in-Qatar\"><span><strong class=\"highlight\">Data</strong><span> Management</span></span></a> <!-- -->·<!-- --> <a class=\"css-5x9pm1\" href=\"/a/Data-Analysis-Jobs-in-Qatar\"><span><strong class=\"highlight\">Data</strong><span> Analysis</span></span></a><a class=\"css-5x9pm1\" href=\"/a/Engineering-Jobs-in-Qatar\"> <!-- -->· <!-- -->Engineering</a></div></div></div></div>,\n",
       " <div class=\"css-1gatmva e1v1l3u10\"><div class=\"css-pkv5jc\"><a href=\"https://wuzzuf.net/jobs/careers/Si-Ware System-Egypt-91773\" rel=\"noreferrer\" target=\"_blank\"></a><div class=\"css-laomuu\"><h2 class=\"css-m604qf\"><a class=\"css-o171kl\" href=\"/jobs/p/SRYwwjHGOKb1-Senior-Machine-Learning-Data-Science-Engineer-Si-Ware-System-Cairo-Egypt?o=2&amp;l=sp&amp;t=sj&amp;a=data science|search-v3|hpb\" rel=\"noreferrer\" target=\"_blank\">Senior Machine Learning/ Data Science Engineer</a></h2><div class=\"css-d7j1kk\"><a class=\"css-17s97q8\" href=\"https://wuzzuf.net/jobs/careers/Si-Ware System-Egypt-91773\" rel=\"noreferrer\" target=\"_blank\">Si-Ware System -</a> <span class=\"css-5wys0k\">Cairo, <!-- -->Egypt </span><div class=\"css-do6t5g\">17 days<!-- --> ago</div></div></div><div class=\"css-y4udm8\"><div class=\"css-1lh32fc\"><a class=\"css-n2jc4m\" href=\"/a/Full-Time-Jobs-in-Egypt\"><span class=\"css-1ve4b75 eoyjyou0\">Full Time</span></a></div><div><a class=\"css-o171kl\" href=\"/a/Not-Specified-Jobs-in-Egypt\">Not specified</a><a class=\"css-o171kl\" href=\"/a/IT-Software-Development-Jobs-in-Egypt\"> <!-- -->· <!-- -->IT/Software Development</a><a class=\"css-o171kl\" href=\"/a/Analyst-Research-Jobs-in-Egypt\"> <!-- -->· <!-- -->Analyst/Research</a><a class=\"css-o171kl\" href=\"/a/Engineering-Telecom-Technology-Jobs-in-Egypt\"> <!-- -->· <!-- -->Engineering - Telecom/Technology</a><a class=\"css-5x9pm1\" href=\"/a/Python-Jobs-in-Egypt\"> <!-- -->· <!-- -->Python</a><a class=\"css-5x9pm1\" href=\"/a/Software-Engineering-Jobs-in-Egypt\"> <!-- -->· <!-- -->Software Engineering</a><a class=\"css-5x9pm1\" href=\"/a/Information-Technology-IT-Jobs-in-Egypt\"> <!-- -->· <!-- -->Information Technology (IT)</a> <!-- -->·<!-- --> <a class=\"css-5x9pm1\" href=\"/a/Computer-Science-Jobs-in-Egypt\"><span><span>Computer </span><strong class=\"highlight\">Science</strong></span></a><a class=\"css-5x9pm1\" href=\"/a/Machine-Learning-Jobs-in-Egypt\"> <!-- -->· <!-- -->Machine Learning</a><a class=\"css-5x9pm1\" href=\"/a/C++-Jobs-in-Egypt\"> <!-- -->· <!-- -->C++</a><a class=\"css-5x9pm1\" href=\"/a/NLP-Jobs-in-Egypt\"> <!-- -->· <!-- -->NLP</a></div></div></div></div>,\n",
       " <div class=\"css-1gatmva e1v1l3u10\"><div class=\"css-pkv5jc\"><a href=\"https://wuzzuf.net/jobs/careers/eT3---Tomorrow-Information-Technology-Egypt-5525\" rel=\"noreferrer\" target=\"_blank\"></a><div class=\"css-laomuu\"><h2 class=\"css-m604qf\"><a class=\"css-o171kl\" href=\"/jobs/p/7ecFYQvcGsIB-Data-Scientist-eT3---Tomorrow-Information-Technology-Cairo-Egypt?o=3&amp;l=sp&amp;t=sj&amp;a=data science|search-v3|hpb\" rel=\"noreferrer\" target=\"_blank\">Data Scientist</a></h2><div class=\"css-d7j1kk\"><a class=\"css-17s97q8\" href=\"https://wuzzuf.net/jobs/careers/eT3---Tomorrow-Information-Technology-Egypt-5525\" rel=\"noreferrer\" target=\"_blank\">eT3 - Tomorrow Information Technology -</a> <span class=\"css-5wys0k\">Cairo, <!-- -->Egypt </span><style data-emotion=\"css 4c4ojb\">.css-4c4ojb{font-size:12px;font-weight:400;font-style:normal;letter-spacing:-0.27px;line-height:19px;color:#2C9266;}</style><div class=\"css-4c4ojb\">4 days<!-- --> ago</div></div></div><div class=\"css-y4udm8\"><div class=\"css-1lh32fc\"><a class=\"css-n2jc4m\" href=\"/a/Full-Time-Jobs-in-Egypt\"><span class=\"css-1ve4b75 eoyjyou0\">Full Time</span></a></div><div><a class=\"css-o171kl\" href=\"/a/Experienced-Jobs-in-Egypt\">Experienced</a> <span>· <!-- -->2 - 5 Yrs of Exp</span><a class=\"css-o171kl\" href=\"/a/IT-Software-Development-Jobs-in-Egypt\"> <!-- -->· <!-- -->IT/Software Development</a><a class=\"css-o171kl\" href=\"/a/Engineering-Telecom-Technology-Jobs-in-Egypt\"> <!-- -->· <!-- -->Engineering - Telecom/Technology</a> <!-- -->·<!-- --> <a class=\"css-5x9pm1\" href=\"/a/Data-Science-Jobs-in-Egypt\"><span><strong class=\"highlight\">Data</strong><span> </span><strong class=\"highlight\">Science</strong></span></a> <!-- -->·<!-- --> <a class=\"css-5x9pm1\" href=\"/a/Computer-Science-Jobs-in-Egypt\"><span><span>Computer </span><strong class=\"highlight\">Science</strong></span></a><a class=\"css-5x9pm1\" href=\"/a/Software-Engineering-Jobs-in-Egypt\"> <!-- -->· <!-- -->Software Engineering</a><a class=\"css-5x9pm1\" href=\"/a/Python-Jobs-in-Egypt\"> <!-- -->· <!-- -->Python</a><a class=\"css-5x9pm1\" href=\"/a/Java-Jobs-in-Egypt\"> <!-- -->· <!-- -->Java</a><a class=\"css-5x9pm1\" href=\"/a/Machine-Learning-Jobs-in-Egypt\"> <!-- -->· <!-- -->Machine Learning</a> <!-- -->·<!-- --> <a class=\"css-5x9pm1\" href=\"/a/Data-Analytics-Jobs-in-Egypt\"><span><strong class=\"highlight\">Data</strong><span> Analytics</span></span></a></div></div></div></div>,\n",
       " <div class=\"css-1gatmva e1v1l3u10\"><div class=\"css-pkv5jc\"><a href=\"https://wuzzuf.net/jobs/careers/Informa PLC-Saudi Arabia-91426\" rel=\"noreferrer\" target=\"_blank\"></a><div class=\"css-laomuu\"><h2 class=\"css-m604qf\"><a class=\"css-o171kl\" href=\"/jobs/p/rdgDtQjqxCJD-Senior-Data-Cloud-Architect-IIRIS-Informa-PLC-Dubai-United-Arab-Emirates?o=4&amp;l=sp&amp;t=sj&amp;a=data science|search-v3|hpb\" rel=\"noreferrer\" target=\"_blank\">Senior Data &amp; Cloud Architect (IIRIS)</a></h2><div class=\"css-d7j1kk\"><a class=\"css-17s97q8\" href=\"https://wuzzuf.net/jobs/careers/Informa PLC-Saudi Arabia-91426\" rel=\"noreferrer\" target=\"_blank\">Informa PLC -</a> <span class=\"css-5wys0k\">Dubai, <!-- -->United Arab Emirates </span><div class=\"css-4c4ojb\">35 minutes<!-- --> ago</div></div></div><div class=\"css-y4udm8\"><div class=\"css-1lh32fc\"><a class=\"css-n2jc4m\" href=\"/a/Full-Time-Jobs-in-United-Arab-Emirates\"><span class=\"css-1ve4b75 eoyjyou0\">Full Time</span></a></div><div><a class=\"css-o171kl\" href=\"/a/Not-Specified-Jobs-in-United-Arab-Emirates\">Not specified</a><a class=\"css-o171kl\" href=\"/a/IT-Software-Development-Jobs-in-United-Arab-Emirates\"> <!-- -->· <!-- -->IT/Software Development</a><a class=\"css-o171kl\" href=\"/a/Analyst-Research-Jobs-in-United-Arab-Emirates\"> <!-- -->· <!-- -->Analyst/Research</a><a class=\"css-o171kl\" href=\"/a/Engineering-Telecom-Technology-Jobs-in-United-Arab-Emirates\"> <!-- -->· <!-- -->Engineering - Telecom/Technology</a><a class=\"css-5x9pm1\" href=\"/a/Information-Technology-IT-Jobs-in-United-Arab-Emirates\"> <!-- -->· <!-- -->Information Technology (IT)</a> <!-- -->·<!-- --> <a class=\"css-5x9pm1\" href=\"/a/Computer-Science-Jobs-in-United-Arab-Emirates\"><span><span>Computer </span><strong class=\"highlight\">Science</strong></span></a><a class=\"css-5x9pm1\" href=\"/a/Engineering-Jobs-in-United-Arab-Emirates\"> <!-- -->· <!-- -->Engineering</a><a class=\"css-5x9pm1\" href=\"/a/SQL-Jobs-in-United-Arab-Emirates\"> <!-- -->· <!-- -->SQL</a><a class=\"css-5x9pm1\" href=\"/a/Microsoft-Office-Jobs-in-United-Arab-Emirates\"> <!-- -->· <!-- -->Microsoft Office</a><a class=\"css-5x9pm1\" href=\"/a/Software-Development-Jobs-in-United-Arab-Emirates\"> <!-- -->· <!-- -->Software Development</a><a class=\"css-5x9pm1\" href=\"/a/Software-Engineering-Jobs-in-United-Arab-Emirates\"> <!-- -->· <!-- -->Software Engineering</a></div></div></div></div>,\n",
       " <div class=\"css-1gatmva e1v1l3u10\"><div class=\"css-pkv5jc\"><a href=\"https://wuzzuf.net/jobs/careers/D4DS-Saudi Arabia-92544\" rel=\"noreferrer\" target=\"_blank\"></a><div class=\"css-laomuu\"><h2 class=\"css-m604qf\"><a class=\"css-o171kl\" href=\"/jobs/p/8sTsEHczOilS-Data-Quality-Specialist-Informatica-Certified---2-3-Years-of-Experience-D4DS-Riyadh-Saudi-Arabia?o=5&amp;l=sp&amp;t=sj&amp;a=data science|search-v3|hpb\" rel=\"noreferrer\" target=\"_blank\">Data Quality Specialist (Informatica Certified) - 2-3 Years of Experience</a></h2><div class=\"css-d7j1kk\"><a class=\"css-17s97q8\" href=\"https://wuzzuf.net/jobs/careers/D4DS-Saudi Arabia-92544\" rel=\"noreferrer\" target=\"_blank\">D4DS -</a> <span class=\"css-5wys0k\">Riyadh, <!-- -->Saudi Arabia </span><div class=\"css-4c4ojb\">19 hours<!-- --> ago</div></div></div><div class=\"css-y4udm8\"><div class=\"css-1lh32fc\"><a class=\"css-n2jc4m\" href=\"/a/Full-Time-Jobs-in-Saudi-Arabia\"><span class=\"css-1ve4b75 eoyjyou0\">Full Time</span></a></div><div><a class=\"css-o171kl\" href=\"/a/Not-Specified-Jobs-in-Saudi-Arabia\">Not specified</a><a class=\"css-o171kl\" href=\"/a/Administration-Jobs-in-Saudi-Arabia\"> <!-- -->· <!-- -->Administration</a><a class=\"css-o171kl\" href=\"/a/R-D-Science-Jobs-in-Saudi-Arabia\"> <!-- -->· <!-- -->R&amp;D/Science</a><a class=\"css-o171kl\" href=\"/a/Quality-Jobs-in-Saudi-Arabia\"> <!-- -->· <!-- -->Quality</a><a class=\"css-5x9pm1\" href=\"/a/Quality-Assurance-Jobs-in-Saudi-Arabia\"> <!-- -->· <!-- -->Quality Assurance</a><a class=\"css-5x9pm1\" href=\"/a/Quality-Control-Jobs-in-Saudi-Arabia\"> <!-- -->· <!-- -->Quality Control</a><a class=\"css-5x9pm1\" href=\"/a/Quality-Jobs-in-Saudi-Arabia\"> <!-- -->· <!-- -->Quality</a><a class=\"css-5x9pm1\" href=\"/a/QA-Jobs-in-Saudi-Arabia\"> <!-- -->· <!-- -->QA</a><a class=\"css-5x9pm1\" href=\"/a/Microsoft-Office-Jobs-in-Saudi-Arabia\"> <!-- -->· <!-- -->Microsoft Office</a> <!-- -->·<!-- --> <a class=\"css-5x9pm1\" href=\"/a/Data-Entry-Jobs-in-Saudi-Arabia\"><span><strong class=\"highlight\">Data</strong><span> Entry</span></span></a><a class=\"css-5x9pm1\" href=\"/a/Administration-Jobs-in-Saudi-Arabia\"> <!-- -->· <!-- -->Administration</a></div></div></div></div>,\n",
       " <div class=\"css-1gatmva e1v1l3u10\"><div class=\"css-pkv5jc\"><a href=\"https://wuzzuf.net/jobs/careers/DXC-Saudi Arabia-91419\" rel=\"noreferrer\" target=\"_blank\"></a><div class=\"css-laomuu\"><h2 class=\"css-m604qf\"><a class=\"css-o171kl\" href=\"/jobs/p/AVMiPZpr5sBA-Senior-Data-Analyst-DXC-Cairo-Egypt?o=6&amp;l=sp&amp;t=sj&amp;a=data science|search-v3|hpb\" rel=\"noreferrer\" target=\"_blank\">Senior Data Analyst</a></h2><div class=\"css-d7j1kk\"><a class=\"css-17s97q8\" href=\"https://wuzzuf.net/jobs/careers/DXC-Saudi Arabia-91419\" rel=\"noreferrer\" target=\"_blank\">DXC -</a> <span class=\"css-5wys0k\">Cairo, <!-- -->Egypt </span><div class=\"css-4c4ojb\">2 days<!-- --> ago</div></div></div><div class=\"css-y4udm8\"><div class=\"css-1lh32fc\"><a class=\"css-n2jc4m\" href=\"/a/Full-Time-Jobs-in-Egypt\"><span class=\"css-1ve4b75 eoyjyou0\">Full Time</span></a></div><div><a class=\"css-o171kl\" href=\"/a/Not-Specified-Jobs-in-Egypt\">Not specified</a><a class=\"css-o171kl\" href=\"/a/IT-Software-Development-Jobs-in-Egypt\"> <!-- -->· <!-- -->IT/Software Development</a><a class=\"css-o171kl\" href=\"/a/Analyst-Research-Jobs-in-Egypt\"> <!-- -->· <!-- -->Analyst/Research</a><a class=\"css-o171kl\" href=\"/a/Engineering-Telecom-Technology-Jobs-in-Egypt\"> <!-- -->· <!-- -->Engineering - Telecom/Technology</a><a class=\"css-5x9pm1\" href=\"/a/Information-Technology-IT-Jobs-in-Egypt\"> <!-- -->· <!-- -->Information Technology (IT)</a> <!-- -->·<!-- --> <a class=\"css-5x9pm1\" href=\"/a/Computer-Science-Jobs-in-Egypt\"><span><span>Computer </span><strong class=\"highlight\">Science</strong></span></a><a class=\"css-5x9pm1\" href=\"/a/Analysis-Jobs-in-Egypt\"> <!-- -->· <!-- -->Analysis</a> <!-- -->·<!-- --> <a class=\"css-5x9pm1\" href=\"/a/Data-Analysis-Jobs-in-Egypt\"><span><strong class=\"highlight\">Data</strong><span> Analysis</span></span></a><a class=\"css-5x9pm1\" href=\"/a/Business-Analysis-Jobs-in-Egypt\"> <!-- -->· <!-- -->Business Analysis</a><a class=\"css-5x9pm1\" href=\"/a/Microsoft-Office-Jobs-in-Egypt\"> <!-- -->· <!-- -->Microsoft Office</a><a class=\"css-5x9pm1\" href=\"/a/SQL-Jobs-in-Egypt\"> <!-- -->· <!-- -->SQL</a></div></div></div></div>,\n",
       " <div class=\"css-1gatmva e1v1l3u10\"><div class=\"css-pkv5jc\"><a href=\"https://wuzzuf.net/jobs/careers/Ibn-Sina-Pharma-Egypt-7249\" rel=\"noreferrer\" target=\"_blank\"></a><div class=\"css-laomuu\"><h2 class=\"css-m604qf\"><a class=\"css-o171kl\" href=\"/jobs/p/Lbrv99VhWmgv-Data-Engineer-Ibn-Sina-Pharma-Cairo-Egypt?o=7&amp;l=sp&amp;t=sj&amp;a=data science|search-v3|hpb\" rel=\"noreferrer\" target=\"_blank\">Data Engineer</a></h2><div class=\"css-d7j1kk\"><a class=\"css-17s97q8\" href=\"https://wuzzuf.net/jobs/careers/Ibn-Sina-Pharma-Egypt-7249\" rel=\"noreferrer\" target=\"_blank\">Ibn Sina Pharma -</a> <span class=\"css-5wys0k\">New Cairo, <!-- -->Cairo, <!-- -->Egypt </span><div class=\"css-do6t5g\">8 days<!-- --> ago</div></div></div><div class=\"css-y4udm8\"><div class=\"css-1lh32fc\"><a class=\"css-n2jc4m\" href=\"/a/Full-Time-Jobs-in-Egypt\"><span class=\"css-1ve4b75 eoyjyou0\">Full Time</span></a></div><div><a class=\"css-o171kl\" href=\"/a/Experienced-Jobs-in-Egypt\">Experienced</a> <span>· <!-- -->1 - 3 Yrs of Exp</span><a class=\"css-o171kl\" href=\"/a/IT-Software-Development-Jobs-in-Egypt\"> <!-- -->· <!-- -->IT/Software Development</a><a class=\"css-o171kl\" href=\"/a/Analyst-Research-Jobs-in-Egypt\"> <!-- -->· <!-- -->Analyst/Research</a><a class=\"css-o171kl\" href=\"/a/Engineering-Telecom-Technology-Jobs-in-Egypt\"> <!-- -->· <!-- -->Engineering - Telecom/Technology</a> <!-- -->·<!-- --> <a class=\"css-5x9pm1\" href=\"/a/Big-Data-Jobs-in-Egypt\"><span><span>Big </span><strong class=\"highlight\">Data</strong></span></a><a class=\"css-5x9pm1\" href=\"/a/AWS-Jobs-in-Egypt\"> <!-- -->· <!-- -->AWS</a><a class=\"css-5x9pm1\" href=\"/a/Computer-Engineering-Jobs-in-Egypt\"> <!-- -->· <!-- -->Computer Engineering</a> <!-- -->·<!-- --> <a class=\"css-5x9pm1\" href=\"/a/Computer-Science-Jobs-in-Egypt\"><span><span>Computer </span><strong class=\"highlight\">Science</strong></span></a> <!-- -->·<!-- --> <a class=\"css-5x9pm1\" href=\"/a/Data-Science-Jobs-in-Egypt\"><span><strong class=\"highlight\">Data</strong><span> </span><strong class=\"highlight\">Science</strong></span></a><a class=\"css-5x9pm1\" href=\"/a/Design-Jobs-in-Egypt\"> <!-- -->· <!-- -->Design</a><a class=\"css-5x9pm1\" href=\"/a/Engineering-Jobs-in-Egypt\"> <!-- -->· <!-- -->Engineering</a></div></div></div></div>,\n",
       " <div class=\"css-1gatmva e1v1l3u10\"><div class=\"css-pkv5jc\"><a href=\"https://wuzzuf.net/jobs/careers/Marriott International, Inc &amp; Ritz Carlton Hotel Company L.L.C.-Egypt-91628\" rel=\"noreferrer\" target=\"_blank\"></a><div class=\"css-laomuu\"><h2 class=\"css-m604qf\"><a class=\"css-o171kl\" href=\"/jobs/p/ZMLwDViqAeRz-Data-Analyst-Marriott-International-Inc-Ritz-Carlton-Hotel-Company-L-L-C-Dubai-United-Arab-Emirates?o=8&amp;l=sp&amp;t=sj&amp;a=data science|search-v3|hpb\" rel=\"noreferrer\" target=\"_blank\">Data Analyst</a></h2><div class=\"css-d7j1kk\"><a class=\"css-17s97q8\" href=\"https://wuzzuf.net/jobs/careers/Marriott International, Inc &amp; Ritz Carlton Hotel Company L.L.C.-Egypt-91628\" rel=\"noreferrer\" target=\"_blank\">Marriott International, Inc &amp; Ritz Carlton Hotel Company L.L.C. -</a> <span class=\"css-5wys0k\">Dubai, <!-- -->United Arab Emirates </span><div class=\"css-4c4ojb\">19 hours<!-- --> ago</div></div></div><div class=\"css-y4udm8\"><div class=\"css-1lh32fc\"><a class=\"css-n2jc4m\" href=\"/a/Full-Time-Jobs-in-United-Arab-Emirates\"><span class=\"css-1ve4b75 eoyjyou0\">Full Time</span></a></div><div><a class=\"css-o171kl\" href=\"/a/Not-Specified-Jobs-in-United-Arab-Emirates\">Not specified</a><a class=\"css-o171kl\" href=\"/a/IT-Software-Development-Jobs-in-United-Arab-Emirates\"> <!-- -->· <!-- -->IT/Software Development</a><a class=\"css-o171kl\" href=\"/a/Analyst-Research-Jobs-in-United-Arab-Emirates\"> <!-- -->· <!-- -->Analyst/Research</a><a class=\"css-o171kl\" href=\"/a/Engineering-Telecom-Technology-Jobs-in-United-Arab-Emirates\"> <!-- -->· <!-- -->Engineering - Telecom/Technology</a> <!-- -->·<!-- --> <a class=\"css-5x9pm1\" href=\"/a/Data-Analysis-Jobs-in-United-Arab-Emirates\"><span><strong class=\"highlight\">Data</strong><span> Analysis</span></span></a><a class=\"css-5x9pm1\" href=\"/a/Analysis-Jobs-in-United-Arab-Emirates\"> <!-- -->· <!-- -->Analysis</a> <!-- -->·<!-- --> <a class=\"css-5x9pm1\" href=\"/a/Computer-Science-Jobs-in-United-Arab-Emirates\"><span><span>Computer </span><strong class=\"highlight\">Science</strong></span></a><a class=\"css-5x9pm1\" href=\"/a/Information-Technology-IT-Jobs-in-United-Arab-Emirates\"> <!-- -->· <!-- -->Information Technology (IT)</a><a class=\"css-5x9pm1\" href=\"/a/SQL-Jobs-in-United-Arab-Emirates\"> <!-- -->· <!-- -->SQL</a><a class=\"css-5x9pm1\" href=\"/a/Microsoft-Office-Jobs-in-United-Arab-Emirates\"> <!-- -->· <!-- -->Microsoft Office</a><a class=\"css-5x9pm1\" href=\"/a/Microsoft-Excel-Jobs-in-United-Arab-Emirates\"> <!-- -->· <!-- -->Microsoft Excel</a></div></div></div></div>,\n",
       " <div class=\"css-1gatmva e1v1l3u10\"><div class=\"css-pkv5jc\"><a href=\"https://wuzzuf.net/jobs/careers/Bragonatech-United Arab Emirates-92455\" rel=\"noreferrer\" target=\"_blank\"></a><div class=\"css-laomuu\"><h2 class=\"css-m604qf\"><a class=\"css-o171kl\" href=\"/jobs/p/n6iq9A9GpuNv-Data-Analyst-Bragonatech-Dubai-United-Arab-Emirates?o=9&amp;l=sp&amp;t=sj&amp;a=data science|search-v3|hpb\" rel=\"noreferrer\" target=\"_blank\">Data Analyst</a></h2><div class=\"css-d7j1kk\"><a class=\"css-17s97q8\" href=\"https://wuzzuf.net/jobs/careers/Bragonatech-United Arab Emirates-92455\" rel=\"noreferrer\" target=\"_blank\">Bragonatech -</a> <span class=\"css-5wys0k\">Dubai, <!-- -->United Arab Emirates </span><div class=\"css-4c4ojb\">19 hours<!-- --> ago</div></div></div><div class=\"css-y4udm8\"><div class=\"css-1lh32fc\"><a class=\"css-n2jc4m\" href=\"/a/Full-Time-Jobs-in-United-Arab-Emirates\"><span class=\"css-1ve4b75 eoyjyou0\">Full Time</span></a></div><div><a class=\"css-o171kl\" href=\"/a/Not-Specified-Jobs-in-United-Arab-Emirates\">Not specified</a><a class=\"css-o171kl\" href=\"/a/IT-Software-Development-Jobs-in-United-Arab-Emirates\"> <!-- -->· <!-- -->IT/Software Development</a><a class=\"css-o171kl\" href=\"/a/Analyst-Research-Jobs-in-United-Arab-Emirates\"> <!-- -->· <!-- -->Analyst/Research</a><a class=\"css-o171kl\" href=\"/a/Engineering-Telecom-Technology-Jobs-in-United-Arab-Emirates\"> <!-- -->· <!-- -->Engineering - Telecom/Technology</a> <!-- -->·<!-- --> <a class=\"css-5x9pm1\" href=\"/a/Data-Analysis-Jobs-in-United-Arab-Emirates\"><span><strong class=\"highlight\">Data</strong><span> Analysis</span></span></a><a class=\"css-5x9pm1\" href=\"/a/Analysis-Jobs-in-United-Arab-Emirates\"> <!-- -->· <!-- -->Analysis</a> <!-- -->·<!-- --> <a class=\"css-5x9pm1\" href=\"/a/Computer-Science-Jobs-in-United-Arab-Emirates\"><span><span>Computer </span><strong class=\"highlight\">Science</strong></span></a><a class=\"css-5x9pm1\" href=\"/a/Information-Technology-IT-Jobs-in-United-Arab-Emirates\"> <!-- -->· <!-- -->Information Technology (IT)</a><a class=\"css-5x9pm1\" href=\"/a/SQL-Jobs-in-United-Arab-Emirates\"> <!-- -->· <!-- -->SQL</a><a class=\"css-5x9pm1\" href=\"/a/Microsoft-Office-Jobs-in-United-Arab-Emirates\"> <!-- -->· <!-- -->Microsoft Office</a><a class=\"css-5x9pm1\" href=\"/a/Microsoft-Excel-Jobs-in-United-Arab-Emirates\"> <!-- -->· <!-- -->Microsoft Excel</a></div></div></div></div>,\n",
       " <div class=\"css-1gatmva e1v1l3u10\"><div class=\"css-pkv5jc\"><a href=\"https://wuzzuf.net/jobs/careers/Madison Pearl-Qatar-92539\" rel=\"noreferrer\" target=\"_blank\"></a><div class=\"css-laomuu\"><h2 class=\"css-m604qf\"><a class=\"css-o171kl\" href=\"/jobs/p/vDpMiYHfkvtA-Head-of-Data-Analytics-Madison-Pearl-Dubai-United-Arab-Emirates?o=10&amp;l=sp&amp;t=sj&amp;a=data science|search-v3|hpb\" rel=\"noreferrer\" target=\"_blank\">Head of Data Analytics,</a></h2><div class=\"css-d7j1kk\"><a class=\"css-17s97q8\" href=\"https://wuzzuf.net/jobs/careers/Madison Pearl-Qatar-92539\" rel=\"noreferrer\" target=\"_blank\">Madison Pearl -</a> <span class=\"css-5wys0k\">Dubai, <!-- -->United Arab Emirates </span><div class=\"css-4c4ojb\">19 hours<!-- --> ago</div></div></div><div class=\"css-y4udm8\"><div class=\"css-1lh32fc\"><a class=\"css-n2jc4m\" href=\"/a/Full-Time-Jobs-in-United-Arab-Emirates\"><span class=\"css-1ve4b75 eoyjyou0\">Full Time</span></a></div><div><a class=\"css-o171kl\" href=\"/a/Not-Specified-Jobs-in-United-Arab-Emirates\">Not specified</a><a class=\"css-o171kl\" href=\"/a/IT-Software-Development-Jobs-in-United-Arab-Emirates\"> <!-- -->· <!-- -->IT/Software Development</a><a class=\"css-o171kl\" href=\"/a/Analyst-Research-Jobs-in-United-Arab-Emirates\"> <!-- -->· <!-- -->Analyst/Research</a><a class=\"css-o171kl\" href=\"/a/Engineering-Telecom-Technology-Jobs-in-United-Arab-Emirates\"> <!-- -->· <!-- -->Engineering - Telecom/Technology</a> <!-- -->·<!-- --> <a class=\"css-5x9pm1\" href=\"/a/Computer-Science-Jobs-in-United-Arab-Emirates\"><span><span>Computer </span><strong class=\"highlight\">Science</strong></span></a><a class=\"css-5x9pm1\" href=\"/a/Information-Technology-IT-Jobs-in-United-Arab-Emirates\"> <!-- -->· <!-- -->Information Technology (IT)</a><a class=\"css-5x9pm1\" href=\"/a/SQL-Jobs-in-United-Arab-Emirates\"> <!-- -->· <!-- -->SQL</a> <!-- -->·<!-- --> <a class=\"css-5x9pm1\" href=\"/a/Data-Analytics-Jobs-in-United-Arab-Emirates\"><span><strong class=\"highlight\">Data</strong><span> Analytics</span></span></a><a class=\"css-5x9pm1\" href=\"/a/Analysis-Jobs-in-United-Arab-Emirates\"> <!-- -->· <!-- -->Analysis</a><a class=\"css-5x9pm1\" href=\"/a/BI-Jobs-in-United-Arab-Emirates\"> <!-- -->· <!-- -->BI</a><a class=\"css-5x9pm1\" href=\"/a/Computer-Engineering-Jobs-in-United-Arab-Emirates\"> <!-- -->· <!-- -->Computer Engineering</a></div></div></div></div>,\n",
       " <div class=\"css-1gatmva e1v1l3u10\"><div class=\"css-pkv5jc\"><a href=\"https://wuzzuf.net/jobs/careers/Dautom-United Arab Emirates-91758\" rel=\"noreferrer\" target=\"_blank\"></a><div class=\"css-laomuu\"><h2 class=\"css-m604qf\"><a class=\"css-o171kl\" href=\"/jobs/p/aohH7X0yN2Xg-Specialist-Data-Management-Dautom-Abu-Dhabi-United-Arab-Emirates?o=11&amp;l=sp&amp;t=sj&amp;a=data science|search-v3|hpb\" rel=\"noreferrer\" target=\"_blank\">Specialist Data Management</a></h2><div class=\"css-d7j1kk\"><a class=\"css-17s97q8\" href=\"https://wuzzuf.net/jobs/careers/Dautom-United Arab Emirates-91758\" rel=\"noreferrer\" target=\"_blank\">Dautom -</a> <span class=\"css-5wys0k\">Abu Dhabi, <!-- -->United Arab Emirates </span><div class=\"css-4c4ojb\">2 days<!-- --> ago</div></div></div><div class=\"css-y4udm8\"><div class=\"css-1lh32fc\"><a class=\"css-n2jc4m\" href=\"/a/Full-Time-Jobs-in-United-Arab-Emirates\"><span class=\"css-1ve4b75 eoyjyou0\">Full Time</span></a></div><div><a class=\"css-o171kl\" href=\"/a/Not-Specified-Jobs-in-United-Arab-Emirates\">Not specified</a><a class=\"css-o171kl\" href=\"/a/Administration-Jobs-in-United-Arab-Emirates\"> <!-- -->· <!-- -->Administration</a><a class=\"css-o171kl\" href=\"/a/IT-Software-Development-Jobs-in-United-Arab-Emirates\"> <!-- -->· <!-- -->IT/Software Development</a><a class=\"css-o171kl\" href=\"/a/Engineering-Telecom-Technology-Jobs-in-United-Arab-Emirates\"> <!-- -->· <!-- -->Engineering - Telecom/Technology</a> <!-- -->·<!-- --> <a class=\"css-5x9pm1\" href=\"/a/Data-Entry-Jobs-in-United-Arab-Emirates\"><span><strong class=\"highlight\">Data</strong><span> Entry</span></span></a><a class=\"css-5x9pm1\" href=\"/a/Administration-Jobs-in-United-Arab-Emirates\"> <!-- -->· <!-- -->Administration</a><a class=\"css-5x9pm1\" href=\"/a/Microsoft-Office-Jobs-in-United-Arab-Emirates\"> <!-- -->· <!-- -->Microsoft Office</a><a class=\"css-5x9pm1\" href=\"/a/Admin-Jobs-in-United-Arab-Emirates\"> <!-- -->· <!-- -->Admin</a><a class=\"css-5x9pm1\" href=\"/a/Information-Technology-IT-Jobs-in-United-Arab-Emirates\"> <!-- -->· <!-- -->Information Technology (IT)</a> <!-- -->·<!-- --> <a class=\"css-5x9pm1\" href=\"/a/Computer-Science-Jobs-in-United-Arab-Emirates\"><span><span>Computer </span><strong class=\"highlight\">Science</strong></span></a><a class=\"css-5x9pm1\" href=\"/a/Customer-Service-Jobs-in-United-Arab-Emirates\"> <!-- -->· <!-- -->Customer Service</a></div></div></div></div>,\n",
       " <div class=\"css-1gatmva e1v1l3u10\"><div class=\"css-pkv5jc\"><a href=\"https://wuzzuf.net/jobs/careers/Giza Arabia Systems-Egypt-91406\" rel=\"noreferrer\" target=\"_blank\"></a><div class=\"css-laomuu\"><h2 class=\"css-m604qf\"><a class=\"css-o171kl\" href=\"/jobs/p/72Y0Wno336wi-Data-Center-Engineer-Giza-Arabia-Systems-Cairo-Egypt?o=12&amp;l=sp&amp;t=sj&amp;a=data science|search-v3|hpb\" rel=\"noreferrer\" target=\"_blank\">Data Center Engineer</a></h2><div class=\"css-d7j1kk\"><a class=\"css-17s97q8\" href=\"https://wuzzuf.net/jobs/careers/Giza Arabia Systems-Egypt-91406\" rel=\"noreferrer\" target=\"_blank\">Giza Arabia Systems -</a> <span class=\"css-5wys0k\">Cairo, <!-- -->Egypt </span><div class=\"css-4c4ojb\">19 hours<!-- --> ago</div></div></div><div class=\"css-y4udm8\"><div class=\"css-1lh32fc\"><a class=\"css-n2jc4m\" href=\"/a/Full-Time-Jobs-in-Egypt\"><span class=\"css-1ve4b75 eoyjyou0\">Full Time</span></a></div><div><a class=\"css-o171kl\" href=\"/a/Not-Specified-Jobs-in-Egypt\">Not specified</a><a class=\"css-o171kl\" href=\"/a/IT-Software-Development-Jobs-in-Egypt\"> <!-- -->· <!-- -->IT/Software Development</a><a class=\"css-o171kl\" href=\"/a/Sales-Jobs-in-Egypt\"> <!-- -->· <!-- -->Sales/Retail</a><a class=\"css-o171kl\" href=\"/a/Engineering-Telecom-Technology-Jobs-in-Egypt\"> <!-- -->· <!-- -->Engineering - Telecom/Technology</a><a class=\"css-5x9pm1\" href=\"/a/Information-Technology-IT-Jobs-in-Egypt\"> <!-- -->· <!-- -->Information Technology (IT)</a> <!-- -->·<!-- --> <a class=\"css-5x9pm1\" href=\"/a/Computer-Science-Jobs-in-Egypt\"><span><span>Computer </span><strong class=\"highlight\">Science</strong></span></a><a class=\"css-5x9pm1\" href=\"/a/Engineering-Jobs-in-Egypt\"> <!-- -->· <!-- -->Engineering</a><a class=\"css-5x9pm1\" href=\"/a/Computer-Engineering-Jobs-in-Egypt\"> <!-- -->· <!-- -->Computer Engineering</a> <!-- -->·<!-- --> <a class=\"css-5x9pm1\" href=\"/a/Data-Center-Jobs-in-Egypt\"><span><strong class=\"highlight\">Data</strong><span> Center</span></span></a><a class=\"css-5x9pm1\" href=\"/a/Sales-Jobs-in-Egypt\"> <!-- -->· <!-- -->Sales</a><a class=\"css-5x9pm1\" href=\"/a/Software-Engineering-Jobs-in-Egypt\"> <!-- -->· <!-- -->Software Engineering</a></div></div></div></div>,\n",
       " <div class=\"css-1gatmva e1v1l3u10\"><div class=\"css-pkv5jc\"><a href=\"https://wuzzuf.net/jobs/careers/Ibn-Sina-Pharma-Egypt-7249\" rel=\"noreferrer\" target=\"_blank\"></a><div class=\"css-laomuu\"><h2 class=\"css-m604qf\"><a class=\"css-o171kl\" href=\"/jobs/p/7LoQOww44Xy3-BI-Data-Analyst-Ibn-Sina-Pharma-Cairo-Egypt?o=13&amp;l=sp&amp;t=sj&amp;a=data science|search-v3|hpb\" rel=\"noreferrer\" target=\"_blank\">BI Data Analyst</a></h2><div class=\"css-d7j1kk\"><a class=\"css-17s97q8\" href=\"https://wuzzuf.net/jobs/careers/Ibn-Sina-Pharma-Egypt-7249\" rel=\"noreferrer\" target=\"_blank\">Ibn Sina Pharma -</a> <span class=\"css-5wys0k\">New Cairo, <!-- -->Cairo, <!-- -->Egypt </span><div class=\"css-do6t5g\">11 days<!-- --> ago</div></div></div><div class=\"css-y4udm8\"><div class=\"css-1lh32fc\"><a class=\"css-n2jc4m\" href=\"/a/Full-Time-Jobs-in-Egypt\"><span class=\"css-1ve4b75 eoyjyou0\">Full Time</span></a></div><div><a class=\"css-o171kl\" href=\"/a/Entry-Level-Jobs-in-Egypt\">Entry Level</a> <span>· <!-- -->1 - 3 Yrs of Exp</span><a class=\"css-o171kl\" href=\"/a/IT-Software-Development-Jobs-in-Egypt\"> <!-- -->· <!-- -->IT/Software Development</a><a class=\"css-o171kl\" href=\"/a/Analyst-Research-Jobs-in-Egypt\"> <!-- -->· <!-- -->Analyst/Research</a><a class=\"css-o171kl\" href=\"/a/Engineering-Telecom-Technology-Jobs-in-Egypt\"> <!-- -->· <!-- -->Engineering - Telecom/Technology</a><a class=\"css-5x9pm1\" href=\"/a/Power-BI-Jobs-in-Egypt\"> <!-- -->· <!-- -->Power BI</a><a class=\"css-5x9pm1\" href=\"/a/Analysis-Jobs-in-Egypt\"> <!-- -->· <!-- -->Analysis</a> <!-- -->·<!-- --> <a class=\"css-5x9pm1\" href=\"/a/Data-Analytics-Jobs-in-Egypt\"><span><strong class=\"highlight\">Data</strong><span> Analytics</span></span></a> <!-- -->·<!-- --> <a class=\"css-5x9pm1\" href=\"/a/Business-Data-Jobs-in-Egypt\"><span><span>Business </span><strong class=\"highlight\">Data</strong></span></a><a class=\"css-5x9pm1\" href=\"/a/BI-Jobs-in-Egypt\"> <!-- -->· <!-- -->BI</a><a class=\"css-5x9pm1\" href=\"/a/SQL-Jobs-in-Egypt\"> <!-- -->· <!-- -->SQL</a> <!-- -->·<!-- --> <a class=\"css-5x9pm1\" href=\"/a/Data-Analysis-Jobs-in-Egypt\"><span><strong class=\"highlight\">Data</strong><span> Analysis</span></span></a></div></div></div></div>,\n",
       " <div class=\"css-1gatmva e1v1l3u10\"><div class=\"css-pkv5jc\"><a href=\"https://wuzzuf.net/jobs/careers/JoviTronix-Egypt-16391\" rel=\"noreferrer\" target=\"_blank\"></a><div class=\"css-laomuu\"><h2 class=\"css-m604qf\"><a class=\"css-o171kl\" href=\"/jobs/p/lprBvnp7eKr0-Digital-Data-Analyst-JoviTronix-Giza-Egypt?o=14&amp;l=sp&amp;t=sj&amp;a=data science|search-v3|hpb\" rel=\"noreferrer\" target=\"_blank\">Digital Data Analyst</a></h2><div class=\"css-d7j1kk\"><a class=\"css-17s97q8\" href=\"https://wuzzuf.net/jobs/careers/JoviTronix-Egypt-16391\" rel=\"noreferrer\" target=\"_blank\">JoviTronix  -</a> <span class=\"css-5wys0k\">Sheikh Zayed, <!-- -->Giza, <!-- -->Egypt </span><div class=\"css-do6t5g\">11 days<!-- --> ago</div></div></div><div class=\"css-y4udm8\"><div class=\"css-1lh32fc\"><a class=\"css-n2jc4m\" href=\"/a/Full-Time-Jobs-in-Egypt\"><span class=\"css-1ve4b75 eoyjyou0\">Full Time</span></a></div><div><a class=\"css-o171kl\" href=\"/a/Experienced-Jobs-in-Egypt\">Experienced</a> <span>· <!-- -->3 - 5 Yrs of Exp</span><a class=\"css-o171kl\" href=\"/a/IT-Software-Development-Jobs-in-Egypt\"> <!-- -->· <!-- -->IT/Software Development</a><a class=\"css-o171kl\" href=\"/a/Analyst-Research-Jobs-in-Egypt\"> <!-- -->· <!-- -->Analyst/Research</a><a class=\"css-o171kl\" href=\"/a/Engineering-Telecom-Technology-Jobs-in-Egypt\"> <!-- -->· <!-- -->Engineering - Telecom/Technology</a><a class=\"css-5x9pm1\" href=\"/a/Analysis-Jobs-in-Egypt\"> <!-- -->· <!-- -->Analysis</a><a class=\"css-5x9pm1\" href=\"/a/Analytical-Jobs-in-Egypt\"> <!-- -->· <!-- -->analytical</a><a class=\"css-5x9pm1\" href=\"/a/Business-Jobs-in-Egypt\"> <!-- -->· <!-- -->business</a> <!-- -->·<!-- --> <a class=\"css-5x9pm1\" href=\"/a/Computer-Science-Jobs-in-Egypt\"><span><span>Computer </span><strong class=\"highlight\">Science</strong></span></a> <!-- -->·<!-- --> <a class=\"css-5x9pm1\" href=\"/a/Data-Jobs-in-Egypt\"><span><strong class=\"highlight\">Data</strong></span></a> <!-- -->·<!-- --> <a class=\"css-5x9pm1\" href=\"/a/Data-Analysis-Jobs-in-Egypt\"><span><strong class=\"highlight\">Data</strong><span> Analysis</span></span></a><a class=\"css-5x9pm1\" href=\"/a/Google-Analytics-Jobs-in-Egypt\"> <!-- -->· <!-- -->Google Analytics</a></div></div></div></div>,\n",
       " <div class=\"css-1gatmva e1v1l3u10\"><div class=\"css-pkv5jc\"><a href=\"https://wuzzuf.net/jobs/careers/Paymob-Solutions-Egypt-43747\" rel=\"noreferrer\" target=\"_blank\"></a><div class=\"css-laomuu\"><h2 class=\"css-m604qf\"><a class=\"css-o171kl\" href=\"/jobs/p/quFn9XlgvuLA-Senior-Data-Engineer-Paymob-Solutions-Cairo-Egypt?o=15&amp;l=sp&amp;t=sj&amp;a=data science|search-v3|hpb\" rel=\"noreferrer\" target=\"_blank\">Senior Data Engineer</a></h2><div class=\"css-d7j1kk\"><a class=\"css-17s97q8\" href=\"https://wuzzuf.net/jobs/careers/Paymob-Solutions-Egypt-43747\" rel=\"noreferrer\" target=\"_blank\">Paymob Solutions -</a> <span class=\"css-5wys0k\">Maadi, <!-- -->Cairo, <!-- -->Egypt </span><div class=\"css-4c4ojb\">6 days<!-- --> ago</div></div></div><div class=\"css-y4udm8\"><div class=\"css-1lh32fc\"><a class=\"css-n2jc4m\" href=\"/a/Full-Time-Jobs-in-Egypt\"><span class=\"css-1ve4b75 eoyjyou0\">Full Time</span></a></div><div><a class=\"css-o171kl\" href=\"/a/Experienced-Jobs-in-Egypt\">Experienced</a> <span>· <!-- -->3 - 5 Yrs of Exp</span><a class=\"css-o171kl\" href=\"/a/IT-Software-Development-Jobs-in-Egypt\"> <!-- -->· <!-- -->IT/Software Development</a><a class=\"css-5x9pm1\" href=\"/a/Computer-Engineering-Jobs-in-Egypt\"> <!-- -->· <!-- -->Computer Engineering</a> <!-- -->·<!-- --> <a class=\"css-5x9pm1\" href=\"/a/Computer-Science-Jobs-in-Egypt\"><span><span>Computer </span><strong class=\"highlight\">Science</strong></span></a><a class=\"css-5x9pm1\" href=\"/a/Design-Jobs-in-Egypt\"> <!-- -->· <!-- -->Design</a><a class=\"css-5x9pm1\" href=\"/a/Database-Jobs-in-Egypt\"> <!-- -->· <!-- -->Database</a><a class=\"css-5x9pm1\" href=\"/a/Engineering-Jobs-in-Egypt\"> <!-- -->· <!-- -->Engineering</a><a class=\"css-5x9pm1\" href=\"/a/Information-Technology-IT-Jobs-in-Egypt\"> <!-- -->· <!-- -->Information Technology (IT)</a><a class=\"css-5x9pm1\" href=\"/a/Programming-Jobs-in-Egypt\"> <!-- -->· <!-- -->Programming</a><a class=\"css-5x9pm1\" href=\"/a/Python-Jobs-in-Egypt\"> <!-- -->· <!-- -->Python</a><a class=\"css-5x9pm1\" href=\"/a/SQL-Jobs-in-Egypt\"> <!-- -->· <!-- -->SQL</a></div></div></div></div>]"
      ]
     },
     "execution_count": 7,
     "metadata": {},
     "output_type": "execute_result"
    }
   ],
   "source": [
    "jobs = soup.find_all(\"div\", class_=\"css-1gatmva\")\n",
    "jobs"
   ]
  },
  {
   "cell_type": "code",
   "execution_count": 9,
   "metadata": {},
   "outputs": [
    {
     "data": {
      "text/plain": [
       "{'class': ['css-1gatmva', 'e1v1l3u10']}"
      ]
     },
     "execution_count": 9,
     "metadata": {},
     "output_type": "execute_result"
    }
   ],
   "source": [
    "jobs[0].attrs"
   ]
  },
  {
   "cell_type": "code",
   "execution_count": 17,
   "metadata": {},
   "outputs": [
    {
     "data": {
      "text/plain": [
       "<div class=\"css-pkv5jc\"><a href=\"https://wuzzuf.net/jobs/careers/Qatar Airways - Other locations-Qatar-91475\" rel=\"noreferrer\" target=\"_blank\"><style data-emotion=\"css 17095x3\">.css-17095x3{position:absolute;right:0;top:0;width:60px;height:60px;object-fit:contain;object-position:center center;}</style></a><style data-emotion=\"css laomuu\">.css-laomuu{padding-right:60px;}</style><div class=\"css-laomuu\"><style data-emotion=\"css m604qf\">.css-m604qf{font-size:16px;font-weight:600;font-style:normal;letter-spacing:-0.4px;line-height:24px;color:#0055D9;margin:0;}</style><h2 class=\"css-m604qf\"><style data-emotion=\"css o171kl\">.css-o171kl{-webkit-text-decoration:none;text-decoration:none;color:inherit;}</style><a class=\"css-o171kl\" href=\"/jobs/p/I1N3UZXHi7Xp-Manager-Data-Science-Qatar-Airways---Other-locations-Doha-Qatar?o=1&amp;l=sp&amp;t=sj&amp;a=data science|search-v3|hpb\" rel=\"noreferrer\" target=\"_blank\">Manager Data Science</a></h2><style data-emotion=\"css d7j1kk\">.css-d7j1kk{margin-bottom:8px;overflow:hidden;text-overflow:ellipsis;}</style><div class=\"css-d7j1kk\"><style data-emotion=\"css 17s97q8\">.css-17s97q8{font-size:12px;font-weight:600;font-style:normal;letter-spacing:-0.27px;line-height:19px;color:#001433;-webkit-text-decoration:none;text-decoration:none;}</style><a class=\"css-17s97q8\" href=\"https://wuzzuf.net/jobs/careers/Qatar Airways - Other locations-Qatar-91475\" rel=\"noreferrer\" target=\"_blank\">Qatar Airways - Other locations -</a> <style data-emotion=\"css 5wys0k\">.css-5wys0k{font-size:12px;font-weight:600;font-style:normal;letter-spacing:-0.27px;line-height:19px;color:#4D6182;}</style><span class=\"css-5wys0k\">Doha, <!-- -->Qatar </span><style data-emotion=\"css do6t5g\">.css-do6t5g{font-size:12px;font-weight:400;font-style:normal;letter-spacing:-0.27px;line-height:19px;color:#808EA5;}</style><div class=\"css-do6t5g\">17 days<!-- --> ago</div></div></div><style data-emotion=\"css y4udm8\">.css-y4udm8{font-size:13px;font-weight:600;font-style:normal;letter-spacing:-0.3px;line-height:20px;color:#4D6182;}</style><div class=\"css-y4udm8\"><style data-emotion=\"css 1lh32fc\">.css-1lh32fc{display:-webkit-box;display:-webkit-flex;display:-ms-flexbox;display:flex;margin-bottom:8px;-webkit-align-items:center;-webkit-box-align:center;-ms-flex-align:center;align-items:center;-webkit-box-flex-wrap:wrap;-webkit-flex-wrap:wrap;-ms-flex-wrap:wrap;flex-wrap:wrap;}</style><div class=\"css-1lh32fc\"><style data-emotion=\"css n2jc4m\">.css-n2jc4m{display:-webkit-inline-box;display:-webkit-inline-flex;display:-ms-inline-flexbox;display:inline-flex;-webkit-align-items:center;-webkit-box-align:center;-ms-flex-align:center;align-items:center;-webkit-text-decoration:none;text-decoration:none;color:inherit;margin-bottom:4px;}</style><a class=\"css-n2jc4m\" href=\"/a/Full-Time-Jobs-in-Qatar\"><style data-emotion=\"css adtuo7\">.css-adtuo7{cursor:pointer;padding:0 4px;border-radius:4px;}</style><style data-emotion=\"css 1ve4b75\">.css-1ve4b75{font-size:12px;font-weight:600;display:-webkit-inline-box;display:-webkit-inline-flex;display:-ms-inline-flexbox;display:inline-flex;-webkit-align-items:center;-webkit-box-align:center;-ms-flex-align:center;align-items:center;min-height:20px;margin-right:4px;border-radius:2px;max-width:196px;white-space:nowrap;overflow:hidden;cursor:default;text-overflow:ellipsis;padding:2px 4px;background-color:#EBEDF0;color:#001433;cursor:pointer;padding:0 4px;border-radius:4px;}</style><span class=\"css-1ve4b75 eoyjyou0\">Full Time</span></a></div><div><a class=\"css-o171kl\" href=\"/a/Not-Specified-Jobs-in-Qatar\">Not specified</a><a class=\"css-o171kl\" href=\"/a/IT-Software-Development-Jobs-in-Qatar\"> <!-- -->· <!-- -->IT/Software Development</a><a class=\"css-o171kl\" href=\"/a/Analyst-Research-Jobs-in-Qatar\"> <!-- -->· <!-- -->Analyst/Research</a><a class=\"css-o171kl\" href=\"/a/Engineering-Telecom-Technology-Jobs-in-Qatar\"> <!-- -->· <!-- -->Engineering - Telecom/Technology</a> <!-- -->·<!-- --> <style data-emotion=\"css 5x9pm1\">.css-5x9pm1{-webkit-text-decoration:none;text-decoration:none;color:inherit;max-width:calc(100vw / 2 - 32px);white-space:nowrap;overflow:hidden;text-overflow:ellipsis;display:-webkit-inline-box;display:-webkit-inline-flex;display:-ms-inline-flexbox;display:inline-flex;}</style><a class=\"css-5x9pm1\" href=\"/a/Computer-Science-Jobs-in-Qatar\"><span><span>Computer </span><strong class=\"highlight\">Science</strong></span></a><a class=\"css-5x9pm1\" href=\"/a/Information-Technology-IT-Jobs-in-Qatar\"> <!-- -->· <!-- -->Information Technology (IT)</a><a class=\"css-5x9pm1\" href=\"/a/Computer-Engineering-Jobs-in-Qatar\"> <!-- -->· <!-- -->Computer Engineering</a><a class=\"css-5x9pm1\" href=\"/a/SQL-Jobs-in-Qatar\"> <!-- -->· <!-- -->SQL</a> <!-- -->·<!-- --> <a class=\"css-5x9pm1\" href=\"/a/Data-Management-Jobs-in-Qatar\"><span><strong class=\"highlight\">Data</strong><span> Management</span></span></a> <!-- -->·<!-- --> <a class=\"css-5x9pm1\" href=\"/a/Data-Analysis-Jobs-in-Qatar\"><span><strong class=\"highlight\">Data</strong><span> Analysis</span></span></a><a class=\"css-5x9pm1\" href=\"/a/Engineering-Jobs-in-Qatar\"> <!-- -->· <!-- -->Engineering</a></div></div></div>"
      ]
     },
     "execution_count": 17,
     "metadata": {},
     "output_type": "execute_result"
    }
   ],
   "source": [
    "job = jobs[0].find(\"div\")\n",
    "job"
   ]
  },
  {
   "cell_type": "code",
   "execution_count": 18,
   "metadata": {},
   "outputs": [
    {
     "data": {
      "text/plain": [
       "'Manager Data Science'"
      ]
     },
     "execution_count": 18,
     "metadata": {},
     "output_type": "execute_result"
    }
   ],
   "source": [
    "title = job.find(\"div\", attrs={'class': 'css-laomuu'}).find(\"h2\").find(\"a\").get_text()\n",
    "title"
   ]
  },
  {
   "cell_type": "code",
   "execution_count": 23,
   "metadata": {},
   "outputs": [
    {
     "data": {
      "text/plain": [
       "'https://www.wuzzuf.net/jobs/p/I1N3UZXHi7Xp-Manager-Data-Science-Qatar-Airways---Other-locations-Doha-Qatar?o=1&l=sp&t=sj&a=data science|search-v3|hpb'"
      ]
     },
     "execution_count": 23,
     "metadata": {},
     "output_type": "execute_result"
    }
   ],
   "source": [
    "link = \"https://www.wuzzuf.net\" + job.find(\"div\", attrs={'class': 'css-laomuu'}).find(\"h2\").find(\"a\").attrs['href']\n",
    "link"
   ]
  },
  {
   "cell_type": "code",
   "execution_count": 27,
   "metadata": {},
   "outputs": [
    {
     "data": {
      "text/plain": [
       "'Qatar Airways - Other locations -'"
      ]
     },
     "execution_count": 27,
     "metadata": {},
     "output_type": "execute_result"
    }
   ],
   "source": [
    "company = job.find(\"div\", attrs={'class': 'css-laomuu'}).find(\"div\", class_=\"css-d7j1kk\").find(\"a\").get_text()\n",
    "company"
   ]
  },
  {
   "cell_type": "code",
   "execution_count": 30,
   "metadata": {},
   "outputs": [
    {
     "data": {
      "text/plain": [
       "'Doha, Qatar '"
      ]
     },
     "execution_count": 30,
     "metadata": {},
     "output_type": "execute_result"
    }
   ],
   "source": [
    "location = job.find(\"div\", attrs={'class': 'css-laomuu'}).find(\"div\", class_=\"css-d7j1kk\").find(\"span\").get_text()\n",
    "location"
   ]
  },
  {
   "cell_type": "code",
   "execution_count": 36,
   "metadata": {},
   "outputs": [
    {
     "data": {
      "text/plain": [
       "['Not specified',\n",
       " ' · IT/Software Development',\n",
       " ' · Analyst/Research',\n",
       " ' · Engineering - Telecom/Technology',\n",
       " 'Computer Science',\n",
       " ' · Information Technology (IT)',\n",
       " ' · Computer Engineering',\n",
       " ' · SQL',\n",
       " 'Data Management',\n",
       " 'Data Analysis',\n",
       " ' · Engineering']"
      ]
     },
     "execution_count": 36,
     "metadata": {},
     "output_type": "execute_result"
    }
   ],
   "source": [
    "skills = job.find(\"div\", class_=\"css-y4udm8\").find_all(\"div\")[1].find_all(\"a\")\n",
    "skills = [a.get_text() for a in skills]\n",
    "skills"
   ]
  },
  {
   "cell_type": "code",
   "execution_count": 42,
   "metadata": {},
   "outputs": [],
   "source": [
    "page = 0\n",
    "data = []\n",
    "running = True\n",
    "\n",
    "while running:\n",
    "    response = requests.get(f\"https://wuzzuf.net/search/jobs/?a=hpb&q=data%20science&start={page}\")\n",
    "    soup = BeautifulSoup(response.text, 'html.parser')\n",
    "    jobs = soup.find_all(\"div\", class_=\"css-1gatmva\")\n",
    "\n",
    "    if len(jobs) <= 0:\n",
    "        running = False\n",
    "        break\n",
    "\n",
    "    for job in jobs:\n",
    "        start = job.find(\"div\")\n",
    "        title = start.find(\"div\", attrs={'class': 'css-laomuu'}).find(\"h2\").find(\"a\").get_text()\n",
    "        link = \"https://www.wuzzuf.net\" + start.find(\"div\", attrs={'class': 'css-laomuu'}).find(\"h2\").find(\"a\").attrs['href']\n",
    "        company = start.find(\"div\", attrs={'class': 'css-laomuu'}).find(\"div\", class_=\"css-d7j1kk\").find(\"a\").get_text()\n",
    "        location = start.find(\"div\", attrs={'class': 'css-laomuu'}).find(\"div\", class_=\"css-d7j1kk\").find(\"span\").get_text()\n",
    "        skills = start.find(\"div\", class_=\"css-y4udm8\").find_all(\"div\")[1].find_all(\"a\")\n",
    "        skills = [a.get_text() for a in skills]\n",
    "\n",
    "        info = (title, link, company, location, skills)\n",
    "        data.append(info)\n",
    "\n",
    "    page += 1"
   ]
  },
  {
   "cell_type": "code",
   "execution_count": 43,
   "metadata": {},
   "outputs": [
    {
     "data": {
      "text/plain": [
       "755"
      ]
     },
     "execution_count": 43,
     "metadata": {},
     "output_type": "execute_result"
    }
   ],
   "source": [
    "len(data)"
   ]
  },
  {
   "cell_type": "code",
   "execution_count": 44,
   "metadata": {},
   "outputs": [
    {
     "data": {
      "text/plain": [
       "('Software Business Analyst',\n",
       " 'https://www.wuzzuf.net/jobs/p/4jzfVaORr2RA-Software-Business-Analyst-United-Delta-Systems-Cairo-Egypt?o=201&l=sp&t=sj&a=data science|search-v3|hpb',\n",
       " 'United Delta Systems -',\n",
       " 'Cairo, Egypt ',\n",
       " ['Experienced',\n",
       "  ' · IT/Software Development',\n",
       "  ' · Communication',\n",
       "  ' · Communication skills',\n",
       "  ' · Information Technology (IT)',\n",
       "  'Computer Science',\n",
       "  ' · Technical Writing',\n",
       "  ' · Software'])"
      ]
     },
     "execution_count": 44,
     "metadata": {},
     "output_type": "execute_result"
    }
   ],
   "source": [
    "data[200]"
   ]
  }
 ],
 "metadata": {
  "kernelspec": {
   "display_name": "base",
   "language": "python",
   "name": "python3"
  },
  "language_info": {
   "codemirror_mode": {
    "name": "ipython",
    "version": 3
   },
   "file_extension": ".py",
   "mimetype": "text/x-python",
   "name": "python",
   "nbconvert_exporter": "python",
   "pygments_lexer": "ipython3",
   "version": "3.8.5"
  },
  "orig_nbformat": 4
 },
 "nbformat": 4,
 "nbformat_minor": 2
}
